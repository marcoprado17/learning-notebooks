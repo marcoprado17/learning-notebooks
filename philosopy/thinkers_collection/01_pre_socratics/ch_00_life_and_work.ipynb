{
 "metadata": {
  "language_info": {
   "codemirror_mode": {
    "name": "ipython",
    "version": 3
   },
   "file_extension": ".py",
   "mimetype": "text/x-python",
   "name": "python",
   "nbconvert_exporter": "python",
   "pygments_lexer": "ipython3",
   "version": 3
  },
  "orig_nbformat": 4
 },
 "nbformat": 4,
 "nbformat_minor": 2,
 "cells": [
  {
   "source": [
    "# Vida e Obra\n",
    "\n",
    "## I. Do Mito à Filosofia\n",
    "\n",
    "O que levou o homem, no século VI a.c. substituir as construções mitologicas pelas investigações científicas e especulações filosóficas?\n",
    "No embate entre o oriente e o ocidente pelo nascimento da filosofia e da ciência teórica, o oriente ganhou, sendo a grécia (ocidente) responsável pela continuação e expansão do conhecimento originário no oriente. Mas esse é um debate ainda aberto.\n",
    "O principal aspecto da origem da histórica da filosofia reside na compreensão da mudança de um pensamento mito-poético (fazedora de mitos) para um pensamento teorizante.\n",
    "A convergência de vários fatores (econômicos, sociais, políticos, geográficos etc) culminou no \"milagre grego\" tendo a filosofia e ciência teórica como suas principais manifestações."
   ],
   "cell_type": "markdown",
   "metadata": {}
  },
  {
   "source": [
    "### O nascimento da epopéia\n",
    "\n",
    "Resultante da fusão de lendas eólicas e jônicas, as epopeia são poemas cantados sobre expedições marítimas e elementos provenientes do contato do mundo helênico, em formação, com culturas orientais. Desses inúmeros poemas, apenas Ilíadas e a Odisséia de Homero se conservam.\n",
    "\n"
   ],
   "cell_type": "markdown",
   "metadata": {}
  },
  {
   "source": [
    "### Tempo de deuses e heróis\n",
    "\n",
    "Homero (autor) é uma mistura de lenda e realidade pois as epopeias transendem a vida de um só homem pois contém passagens de diversas épocas e possui uma importância histórica pois retrata a polis da época.\n",
    "A obra de Homero também retrata a visão mito-poética dos gregos de deuses que interferem na realidade humana de forma leve e sem monstrosidades, deuses assumindo a forma humana para interferir.\n",
    "A racionalização do divino (trazer orderm / trazer ideias de uma consciência para a consciência coletiva) conduz a uma religião exterior (minha proximidade com o divino é dada por valores coletivos). Como valores coletivos são hierarquicos, é interesse da aristocracia (estão no topo da hierarquia social) essa racionalização do divino.\n",
    "A mitologia das obras de Homero busca racionalizar o divino, porêm essa racionalização (busca pelas causas primeiras) é limitada, já que os deuses possuem comportamentos humanos, uma racionalização paradoxal pois caracteriscas da causa (humanos) explicam o causador (deus/deuses). Mesmo na mitologia existindo multiplos deuses, a soberania de Zeus, faz com que o politeismo homérico não exclua uma unidade divina.\n",
    "\n",
    "\n"
   ],
   "cell_type": "markdown",
   "metadata": {}
  },
  {
   "cell_type": "code",
   "execution_count": null,
   "metadata": {},
   "outputs": [],
   "source": []
  }
 ]
}